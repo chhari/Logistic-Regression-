{
 "cells": [
  {
   "cell_type": "code",
   "execution_count": 2,
   "metadata": {
    "collapsed": true
   },
   "outputs": [],
   "source": [
    "import numpy as np\n",
    "\n",
    "def generate_data(n=100, k=10, v=4):\n",
    "    X = np.random.rand(n, k)*2-1\n",
    "    theta = np.random.rand(k, 1)\n",
    "    noise = np.random.standard_t(4, n).reshape((-1, 1))\n",
    "    return X, X @ theta + noise\n",
    "\n",
    "def loss(X, y, theta):\n",
    "    print('1')\n",
    "    result1 = -2.5 * np.log(1 + 0.25*((theta.T @ X - y)**2))\n",
    "    print(result1)\n",
    "    return result1"
   ]
  },
  {
   "cell_type": "code",
   "execution_count": null,
   "metadata": {
    "collapsed": true
   },
   "outputs": [],
   "source": []
  }
 ],
 "metadata": {
  "kernelspec": {
   "display_name": "Python 3",
   "language": "python",
   "name": "python3"
  },
  "language_info": {
   "codemirror_mode": {
    "name": "ipython",
    "version": 3
   },
   "file_extension": ".py",
   "mimetype": "text/x-python",
   "name": "python",
   "nbconvert_exporter": "python",
   "pygments_lexer": "ipython3",
   "version": "3.6.1"
  }
 },
 "nbformat": 4,
 "nbformat_minor": 1
}
